{
 "cells": [
  {
   "cell_type": "code",
   "execution_count": 10,
   "metadata": {},
   "outputs": [],
   "source": [
    "# Python 3.x\n",
    "import re\n",
    "import numpy as np\n",
    "import math\n",
    "import urllib.request\n",
    "\n",
    "from collections import Counter, defaultdict, namedtuple, deque\n",
    "from functools   import lru_cache\n",
    "from itertools   import permutations, combinations, chain, cycle, product, islice\n",
    "from heapq       import heappop, heappush\n",
    "\n",
    "def Input(day):\n",
    "    \"Open this day's input file.\"\n",
    "    filename = 'day{0:02d}.txt'.format(day)\n",
    "    return open(filename)\n",
    "\n",
    "def transpose(matrix): return zip(*matrix)\n",
    "\n",
    "def first(iterable): return next(iter(iterable))\n",
    "\n",
    "def nth(iterable, n, default=None):\n",
    "    \"Returns the nth item of iterable, or a default value\"\n",
    "    return next(islice(iterable, n, None), default)\n",
    "\n",
    "cat = ''.join\n",
    "\n",
    "Ø   = frozenset() # Empty set\n",
    "inf = float('inf')\n",
    "BIG = 10 ** 999\n",
    "\n",
    "def grep(pattern, lines):\n",
    "    \"Print lines that match pattern.\"\n",
    "    for line in lines:\n",
    "        if re.search(pattern, line):\n",
    "            print(line)\n",
    "\n",
    "def groupby(iterable, key=lambda it: it):\n",
    "    \"Return a dic whose keys are key(it) and whose values are all the elements of iterable with that key.\"\n",
    "    dic = defaultdict(list)\n",
    "    for it in iterable:\n",
    "        dic[key(it)].append(it)\n",
    "    return dic\n",
    "\n",
    "def powerset(iterable):\n",
    "    \"Yield all subsets of items.\"\n",
    "    items = list(iterable)\n",
    "    for r in range(len(items)+1):\n",
    "        for c in combinations(items, r):\n",
    "            yield c\n",
    "\n",
    "# 2-D points implemented using (x, y) tuples\n",
    "def X(point): return point[0]\n",
    "def Y(point): return point[1]\n",
    "\n",
    "def neighbors4(point): \n",
    "    \"The four neighbors (without diagonals).\"\n",
    "    x, y = point\n",
    "    return ((x+1, y), (x-1, y), (x, y+1), (x, y-1))\n",
    "\n",
    "def neighbors8(point): \n",
    "    \"The eight neighbors (with diagonals).\"\n",
    "    x, y = point \n",
    "    return ((x+1, y), (x-1, y), (x, y+1), (x, y-1),\n",
    "            (x+1, y+1), (x-1, y-1), (x+1, y-1), (x-1, y+1))\n",
    "\n",
    "def cityblock_distance(p, q=(0, 0)): \n",
    "    \"City block distance between two points.\"\n",
    "    return abs(X(p) - X(q)) + abs(Y(p) - Y(q))\n",
    "\n",
    "def euclidean_distance(p, q=(0, 0)): \n",
    "    \"Euclidean (hypotenuse) distance between two points.\"\n",
    "    return math.hypot(X(p) - X(q), Y(p) - Y(q))\n",
    "\n",
    "def trace1(f):\n",
    "    \"Print a trace of the input and output of a function on one line.\"\n",
    "    def traced_f(*args):\n",
    "        result = f(*args)\n",
    "        print('{}({}) = {}'.format(f.__name__, ', '.join(map(str, args)), result))\n",
    "        return result\n",
    "    return traced_f\n",
    "\n",
    "def astar_search(start, h_func, moves_func):\n",
    "    \"Find a shortest sequence of states from start to a goal state (a state s with h_func(s) == 0).\"\n",
    "    frontier  = [(h_func(start), start)] # A priority queue, ordered by path length, f = g + h\n",
    "    previous  = {start: None}  # start state has no previous state; other states will\n",
    "    path_cost = {start: 0}     # The cost of the best path to a state.\n",
    "    while frontier:\n",
    "        (f, s) = heappop(frontier)\n",
    "        if h_func(s) == 0:\n",
    "            return Path(previous, s)\n",
    "        for s2 in moves_func(s):\n",
    "            new_cost = path_cost[s] + 1\n",
    "            if s2 not in path_cost or new_cost < path_cost[s2]:\n",
    "                heappush(frontier, (new_cost + h_func(s2), s2))\n",
    "                path_cost[s2] = new_cost\n",
    "                previous[s2] = s\n",
    "    return dict(fail=True, front=len(frontier), prev=len(previous))\n",
    "                \n",
    "def Path(previous, s): \n",
    "    \"Return a list of states that lead to state s, according to the previous dict.\"\n",
    "    return ([] if (s is None) else Path(previous, previous[s]) + [s])"
   ]
  },
  {
   "cell_type": "code",
   "execution_count": 2,
   "metadata": {},
   "outputs": [],
   "source": [
    "assert tuple(transpose(((1, 2, 3), (4, 5, 6)))) == ((1, 4), (2, 5), (3, 6))\n",
    "assert first('abc') == first(['a', 'b', 'c']) == 'a'\n",
    "assert cat(['a', 'b', 'c']) == 'abc'\n",
    "assert (groupby(['test', 'one', 'two', 'three', 'four'], key=len) \n",
    "        == {3: ['one', 'two'], 4: ['test', 'four'], 5: ['three']})"
   ]
  },
  {
   "cell_type": "code",
   "execution_count": 3,
   "metadata": {},
   "outputs": [
    {
     "name": "stdout",
     "output_type": "stream",
     "text": [
      "243.0\n",
      "142.0\n"
     ]
    }
   ],
   "source": [
    "## Advent Day 01\n",
    "\n",
    "Point = complex             \n",
    "N, S, E, W = 1j, -1j, 1, -1 # Unit vectors for headings\n",
    "\n",
    "def distance(point): \n",
    "    \"City block distance between point and the origin.\"\n",
    "    return abs(point.real) + abs(point.imag)\n",
    "\n",
    "def how_far(moves):\n",
    "    \"After following moves, how far away from the origin do we end up?\"\n",
    "    loc, heading = 0, N # Begin at origin, heading North\n",
    "    for (turn, dist) in parse(moves):\n",
    "        heading *= turn\n",
    "        loc += heading * dist\n",
    "    return distance(loc)\n",
    "\n",
    "def parse(text):\n",
    "    \"Return a list of (turn, distance) pairs from text of form 'R2, L42, ...'\"\n",
    "    turns = dict(L=N, R=S)\n",
    "    return [(turns[RL], int(d))\n",
    "           for (RL, d) in re.findall(r'(R|L)(\\d+)', text)]\n",
    "\n",
    "assert distance(Point(3, 4)) == 7 # City block distance; Euclidean distance would be 5\n",
    "assert parse('R2, L42') == [(S, 2), (N, 42)]\n",
    "assert how_far(\"R2, L3\") == 5\n",
    "assert how_far(\"R2, R2, R2\") == 2\n",
    "assert how_far(\"R5, L5, R5, R3\") == 12\n",
    "\n",
    "print(how_far(Input(1).read()))\n",
    "\n",
    "def visited_twice(text):\n",
    "    \"Following moves in text, find the first location we visit twice, and return the distance to it.\"\n",
    "    loc, heading = 0, N # Begin at origin, heading North\n",
    "    visited = {loc}\n",
    "    for (turn, dist) in parse(text):\n",
    "        heading *= turn\n",
    "        for i in range(dist):\n",
    "            loc += heading\n",
    "            if loc in visited:\n",
    "                return distance(loc)\n",
    "            visited.add(loc)\n",
    "\n",
    "assert visited_twice(\"R8, R4, R4, R8\") == 4\n",
    "assert visited_twice(\"R8, R4, R4, L8\") == None\n",
    "assert visited_twice(\"R8, R0, R1\") == 7\n",
    "\n",
    "print(visited_twice(Input(1).read()))"
   ]
  },
  {
   "cell_type": "code",
   "execution_count": 5,
   "metadata": {},
   "outputs": [
    {
     "name": "stdout",
     "output_type": "stream",
     "text": [
      "99332\n",
      "DD483\n"
     ]
    }
   ],
   "source": [
    "## Advent Day 02\n",
    "\n",
    "Keypad = str.split\n",
    "\n",
    "keypad = Keypad(\"\"\"\n",
    ".....\n",
    ".123.\n",
    ".456.\n",
    ".789.\n",
    ".....\n",
    "\"\"\")\n",
    "\n",
    "assert keypad[2][2] == '5'\n",
    "\n",
    "off = '.'\n",
    "\n",
    "def decode(instructions, x=2, y=2):\n",
    "    \"\"\"Follow instructions, keeping track of x, y position, and\n",
    "    yielding the key at the end of each line of instructions.\"\"\"\n",
    "    for line in instructions:\n",
    "        for C in line:\n",
    "            x, y = move(C, x, y)\n",
    "        yield keypad[y][x]\n",
    "\n",
    "def move(C, x, y):\n",
    "    \"Make the move corresponding to this character (L/R/U/D)\"\n",
    "    if   C == 'L' and keypad[y][x-1] is not off: x -= 1\n",
    "    elif C == 'R' and keypad[y][x+1] is not off: x += 1\n",
    "    elif C == 'U' and keypad[y-1][x] is not off: y -= 1\n",
    "    elif C == 'D' and keypad[y+1][x] is not off: y += 1\n",
    "    return x, y\n",
    "\n",
    "assert move('U', 2, 2) == (2, 1)\n",
    "assert move('U', 2, 1) == (2, 1)\n",
    "assert cat(decode(\"ULL RRDDD LURDL UUUUD\".split())) == '1985'\n",
    "\n",
    "print(cat(decode(Input(2))))\n",
    "\n",
    "keypad = Keypad(\"\"\"\n",
    ".......\n",
    "...1...\n",
    "..234..\n",
    ".56789.\n",
    "..ABC..\n",
    "...D...\n",
    ".......\n",
    "\"\"\")\n",
    "\n",
    "assert keypad[3][1] == '5'\n",
    "\n",
    "print(cat(decode(Input(2), x=1, y=3)))"
   ]
  },
  {
   "cell_type": "code",
   "execution_count": 6,
   "metadata": {},
   "outputs": [
    {
     "name": "stdout",
     "output_type": "stream",
     "text": [
      "862\n",
      "1577\n"
     ]
    }
   ],
   "source": [
    "## Advent Day 03\n",
    "\n",
    "def is_triangle(sides):\n",
    "    \"Do these side lengths form a valid triangle?\"\n",
    "    x, y, z = sorted(sides)\n",
    "    return z < x + y\n",
    "\n",
    "def parse_ints(text): \n",
    "    \"All the integers anywhere in text.\"\n",
    "    return [int(x) for x in re.findall(r'\\d+', text)]\n",
    "\n",
    "triangles = [parse_ints(line) for line in Input(3)]\n",
    "\n",
    "print(sum(map(is_triangle, triangles)))\n",
    "\n",
    "def invert(triangles):\n",
    "    \"Take each 3 lines and transpose them.\"\n",
    "    for i in range(0, len(triangles), 3):\n",
    "        yield from transpose(triangles[i:i+3])\n",
    "\n",
    "print(sum(map(is_triangle, invert(triangles))))"
   ]
  },
  {
   "cell_type": "code",
   "execution_count": 8,
   "metadata": {},
   "outputs": [
    {
     "name": "stdout",
     "output_type": "stream",
     "text": [
      "245102\n",
      "northpole-object-storage 324\n",
      "None\n"
     ]
    }
   ],
   "source": [
    "## Advent Day 04\n",
    "\n",
    "def parse(line): \n",
    "    \"Return (name, sector, checksum).\"\n",
    "    return re.match(r\"(.+)-(\\d+)\\[([a-z]+)\\]\", line).groups()\n",
    "\n",
    "def sector(line):\n",
    "    \"Return the sector number if valid, or 0 if not.\"\n",
    "    name, sector, checksum = parse(line)\n",
    "    return int(sector) if valid(name, checksum) else 0\n",
    "\n",
    "def valid(name, checksum):\n",
    "    \"Determine if name is valid according to checksum.\"\n",
    "    counts = Counter(name.replace('-', '')) \n",
    "    # Note: counts.most_common(5) doesn't work because it breaks ties arbitrarily.\n",
    "    letters = sorted(counts, key=lambda L: (-counts[L], L))\n",
    "    return checksum == cat(letters[:5])\n",
    "\n",
    "assert  parse('aaaaa-bbb-z-y-x-123[abxyz]') == ('aaaaa-bbb-z-y-x', '123', 'abxyz')\n",
    "assert sector('aaaaa-bbb-z-y-x-123[abxyz]') == 123\n",
    "assert  valid('aaaaa-bbb-z-y-x', 'abxyz')\n",
    "\n",
    "print(sum(map(sector, Input(4))))\n",
    "\n",
    "def decrypt(line):\n",
    "    \"Decrypt the line (shift the name by sector; discard checksum).\"\n",
    "    name, sector, _ = parse(line)\n",
    "    return shift(name, int(sector)) + ' ' + sector\n",
    "\n",
    "def shift(text, N, alphabet='abcdefghijklmnopqrstuvwxyz'):\n",
    "    \"Shift cipher: letters in text rotate forward in alphabet by N places.\"\n",
    "    N = N % len(alphabet)\n",
    "    tr = str.maketrans(alphabet, alphabet[N:] + alphabet[:N])\n",
    "    return text.translate(tr)\n",
    "\n",
    "assert shift('hal', 1) == 'ibm'\n",
    "assert shift('qzmt-zixmtkozy-ivhz', 343) == 'very-encrypted-name'\n",
    "\n",
    "print(grep(\"north\", map(decrypt, Input(4))))"
   ]
  },
  {
   "cell_type": "code",
   "execution_count": 11,
   "metadata": {},
   "outputs": [
    {
     "name": "stdout",
     "output_type": "stream",
     "text": [
      "2231254 0000027b9705c7e6fa3d4816c490bbfd 2\n",
      "2440385 00000468c8625d85571d250737c47b5a 24\n",
      "2640705 0000013e3293b49e4c78a5b43b21023b 241\n",
      "3115031 0000040bbe4509b48041007dec6123bd 2414\n",
      "5045682 00000b11810477f9e49840991fb2151e 2414b\n",
      "8562236 00000cc461c8945671046cf632be4473 2414bc\n",
      "9103137 000007c1da6865df78b2c0addf28913d 2414bc7\n",
      "9433034 00000700ce8beb0a8ffc83fa9986d577 2414bc77\n",
      "2231254 0000027b9705c7e6fa3d4816c490bbfd ..7.....\n",
      "2440385 00000468c8625d85571d250737c47b5a ..7.6...\n",
      "2640705 0000013e3293b49e4c78a5b43b21023b .37.6...\n",
      "9103137 000007c1da6865df78b2c0addf28913d .37.6..c\n",
      "13753308 0000050301b17d598b52e2a343b80c95 .37.60.c\n",
      "13976178 000006fe7545b487de2d003f3d4e1114 .37.60fc\n",
      "19808390 000003e432ea631581aefcce573d56dd .37e60fc\n",
      "27712456 00000048d155e2c930602533209b0154 437e60fc\n",
      "Wall time: 39.1 s\n"
     ]
    },
    {
     "data": {
      "text/plain": [
       "'437e60fc'"
      ]
     },
     "execution_count": 11,
     "metadata": {},
     "output_type": "execute_result"
    }
   ],
   "source": [
    "## Advent Day 05\n",
    "\n",
    "import hashlib\n",
    "\n",
    "door = \"wtnhxymk\"\n",
    "\n",
    "def find_password(door):\n",
    "    \"First 8 sixth digits of md5 hashes of door+i that begin with '00000'.\"\n",
    "    password = ''\n",
    "    for i in range(BIG):\n",
    "        x = hashlib.md5(bytes(door + str(i), 'utf-8')).hexdigest()\n",
    "        if x.startswith('00000'):\n",
    "            password += x[5]\n",
    "            print(i, x, password) # Just to see something happen\n",
    "            if len(password) == 8: \n",
    "                return password\n",
    "\n",
    "find_password(door)\n",
    "\n",
    "def find_tougher_password(door):\n",
    "    \"For md5 hashes that begin with '00000', the seventh digit goes in the sixth-digit slot of the password.\"\n",
    "    password = [off] * 8\n",
    "    for i in range(BIG):\n",
    "        x = hashlib.md5(bytes(door + str(i), 'utf-8')).hexdigest()\n",
    "        if x.startswith('00000'):\n",
    "            index = int(x[5], 16)\n",
    "            if index < 8 and password[index] is off:\n",
    "                password[index] = x[6]\n",
    "                print(i, x, cat(password)) # Just to see something happen\n",
    "            if off not in password:\n",
    "                return cat(password)\n",
    "\n",
    "%time find_tougher_password(door)"
   ]
  },
  {
   "cell_type": "code",
   "execution_count": 13,
   "metadata": {},
   "outputs": [
    {
     "name": "stdout",
     "output_type": "stream",
     "text": [
      "gebzfnbt\n",
      "fykjtwyn\n"
     ]
    }
   ],
   "source": [
    "## Advent Day 06\n",
    "\n",
    "counts = [Counter(col) for col in transpose(Input(6).read().split())]\n",
    "print(cat(c.most_common(1)[0][0] for c in counts))\n",
    "print(cat(c.most_common()[-1][0] for c in counts))"
   ]
  },
  {
   "cell_type": "code",
   "execution_count": 15,
   "metadata": {},
   "outputs": [
    {
     "name": "stdout",
     "output_type": "stream",
     "text": [
      "115\n",
      "231\n"
     ]
    }
   ],
   "source": [
    "## Advent Day 07\n",
    "\n",
    "def abba(text):           return any(a == d != b == c for (a, b, c, d) in subsequences(text, 4))\n",
    "def subsequences(seq, n): return [seq[i:i+n] for i in range(len(seq) + 1 - n)]\n",
    "def segment(line):        return re.split(r'\\[|\\]', line)\n",
    "def outsides(segments):   return ', '.join(segments[0::2])\n",
    "def insides(segments):    return ', '.join(segments[1::2])\n",
    "def tls(segments):        return abba(outsides(segments)) and not abba(insides(segments))\n",
    "\n",
    "print(sum(tls(segment(line)) for line in Input(7)))\n",
    "\n",
    "alphabet = 'abcdefghijklmnopqrstuvwxyz'\n",
    "\n",
    "def ssl(segments): \n",
    "    \"Is there an ABA outside brackets, and the corresponding BAB inside?\"\n",
    "    outs, ins = outsides(segments), insides(segments)\n",
    "    return any(a+b+a in outs and b+a+b in ins\n",
    "               for a in alphabet for b in alphabet if a != b)\n",
    "\n",
    "print(sum(ssl(segment(line)) for line in Input(7)))"
   ]
  },
  {
   "cell_type": "code",
   "execution_count": 16,
   "metadata": {},
   "outputs": [
    {
     "name": "stdout",
     "output_type": "stream",
     "text": [
      "121\n",
      "@@@  @  @ @@@  @  @  @@  @@@@  @@  @@@@  @@@ @    \n",
      "@  @ @  @ @  @ @  @ @  @ @    @  @ @      @  @    \n",
      "@  @ @  @ @  @ @  @ @    @@@  @  @ @@@    @  @    \n",
      "@@@  @  @ @@@  @  @ @    @    @  @ @      @  @    \n",
      "@ @  @  @ @ @  @  @ @  @ @    @  @ @      @  @    \n",
      "@  @  @@  @  @  @@   @@  @@@@  @@  @@@@  @@@ @@@@ \n"
     ]
    }
   ],
   "source": [
    "## Advent Day 08\n",
    "\n",
    "def interpret(cmd, screen):\n",
    "    \"Interpret this command to mutate screen.\"\n",
    "    A, B = map(int, re.findall(r'(\\d+)', cmd)) # There should be 2 numbers on every command line\n",
    "    if cmd.startswith('rect'):\n",
    "        screen[:B, :A] = 1\n",
    "    elif cmd.startswith('rotate row'):\n",
    "        screen[A, :] = rotate(screen[A, :], B)\n",
    "    elif cmd.startswith('rotate col'):\n",
    "        screen[:, A] = rotate(screen[:, A], B)\n",
    "\n",
    "def rotate(items, n): return np.append(items[-n:], items[:-n])\n",
    "\n",
    "def Screen(): return np.zeros((6, 50), dtype=np.int)\n",
    "\n",
    "def run(commands, screen):\n",
    "    \"Do all the commands and return the final pixel array.\"\n",
    "    for cmd in Input(8):\n",
    "        interpret(cmd, screen)   \n",
    "    return screen\n",
    "\n",
    "screen = run(Input(8), Screen())\n",
    "print(np.sum(screen))\n",
    "\n",
    "for row in screen:\n",
    "    print(cat(' @'[pixel] for pixel in row))"
   ]
  },
  {
   "cell_type": "code",
   "execution_count": 18,
   "metadata": {},
   "outputs": [
    {
     "name": "stdout",
     "output_type": "stream",
     "text": [
      "74532\n",
      "11558231665\n"
     ]
    }
   ],
   "source": [
    "## Advent Day 09\n",
    "\n",
    "matcher = re.compile(r'[(](\\d+)x(\\d+)[)]').match # e.g. matches \"(2x5)\" as ('2', '5')\n",
    "\n",
    "def decompress(s):\n",
    "    \"Decompress string s by interpreting '(2x5)' as making 5 copies of the next 2 characters.\"\n",
    "    s = re.sub(r'\\s', '', s) # \"whitespace is ignored\"\n",
    "    result = []\n",
    "    i = 0\n",
    "    while i < len(s):\n",
    "        m = matcher(s, i)\n",
    "        if m:\n",
    "            i = m.end()                # Advance to end of '(CxR)' match\n",
    "            C, R = map(int, m.groups())\n",
    "            result.append(s[i:i+C] * R) # Collect the C characters, repeated R times\n",
    "            i += C                      # Advance past the C characters           \n",
    "        else:\n",
    "            result.append(s[i])         # Collect 1 regular character\n",
    "            i += 1                      # Advance past it\n",
    "    return cat(result)\n",
    "\n",
    "print(len(decompress(Input(9).read())))\n",
    "\n",
    "def decompress_length(s):\n",
    "    \"\"\"Decompress string s by interpreting '(2x5)' as making 5 copies of the next 2 characters.\n",
    "    Recursively decompress these next 5 characters. Return the length of the decompressed string.\"\"\"\n",
    "    s = re.sub(r'\\s', '', s) # \"whitespace is ignored\"\n",
    "    length = 0\n",
    "    i = 0\n",
    "    while i < len(s):\n",
    "        m = matcher(s, i)\n",
    "        if m:\n",
    "            C, R = map(int, m.groups())\n",
    "            i = m.end(0)                              # Advance to end of '(CxR)'\n",
    "            length += R * decompress_length(s[i:i+C]) # Decompress C chars and add to length\n",
    "            i += C                                    # Advance past the C characters \n",
    "        else:\n",
    "            length += 1                               # Add 1 regular character to length\n",
    "            i += 1                                    # Advance past it\n",
    "    return length\n",
    "\n",
    "print(decompress_length(Input(9).read()))"
   ]
  },
  {
   "cell_type": "code",
   "execution_count": 20,
   "metadata": {},
   "outputs": [
    {
     "name": "stdout",
     "output_type": "stream",
     "text": [
      "bot 157 has {17, 61}\n",
      "1085\n"
     ]
    }
   ],
   "source": [
    "## Advent Day 10\n",
    "\n",
    "def bots(instructions, goal={17, 61}):\n",
    "    \"Follow the data flow instructions, and if a bot gets the goal, print it.\"\n",
    "    def give(giver, chip, recip):\n",
    "        \"Pass the chip from giver to recipient.\"\n",
    "        has[giver].discard(chip)\n",
    "        has[recip].add(chip)\n",
    "        chips = has[recip]\n",
    "        if chips == goal:\n",
    "            print(recip, 'has', goal)\n",
    "        if len(chips) == 2:\n",
    "            give(recip, min(chips), gives[recip][0])\n",
    "            give(recip, max(chips), gives[recip][1])\n",
    "            \n",
    "    has   = defaultdict(set)       # who has what\n",
    "    gives = {giver: (dest1, dest2) # who will give what\n",
    "             for (giver, dest1, dest2) \n",
    "             in re.findall(r'(bot \\d+) gives low to (\\w+ \\d+) and high to (\\w+ \\d+)', instructions)}\n",
    "    for (chip, recip) in re.findall(r'value (\\d+) goes to (\\w+ \\d+)', instructions):\n",
    "        give('input bin', int(chip), recip)\n",
    "    return has\n",
    "\n",
    "has = bots(Input(10).read())\n",
    "\n",
    "\n",
    "def out(i): return has['output ' + str(i)].pop()\n",
    "\n",
    "print(out(0) * out(1) * out(2))"
   ]
  },
  {
   "cell_type": "code",
   "execution_count": 23,
   "metadata": {},
   "outputs": [
    {
     "name": "stdout",
     "output_type": "stream",
     "text": [
      "Wall time: 13.2 s\n",
      "31\n",
      "Wall time: 15min 6s\n",
      "55\n"
     ]
    }
   ],
   "source": [
    "## Advent Day 11\n",
    "\n",
    "State = namedtuple('State', 'elevator, floors')\n",
    "\n",
    "def fs(*items): return frozenset(items)\n",
    "\n",
    "legal_floors = {0, 1, 2, 3}\n",
    "\n",
    "def combos(things):\n",
    "    \"All subsets of 1 or 2 things.\"\n",
    "    for s in chain(combinations(things, 1), combinations(things, 2)):\n",
    "        yield fs(*s)\n",
    "\n",
    "def moves(state):\n",
    "    \"All legal states that can be reached in one move from this state\"\n",
    "    L, floors = state\n",
    "    for L2 in {L + 1, L - 1} & legal_floors:\n",
    "        for stuff in combos(floors[L]):\n",
    "            newfloors = tuple((s | stuff if i == L2 else \n",
    "                               s - stuff if i == state.elevator else \n",
    "                               s)\n",
    "                              for (i, s) in enumerate(state.floors))\n",
    "            if legal_floor(newfloors[L]) and legal_floor(newfloors[L2]):\n",
    "                yield State(L2, newfloors)\n",
    "\n",
    "def legal_floor(floor):\n",
    "    \"Floor is legal if no RTG, or every chip has its corresponding RTG.\"\n",
    "    rtgs  = any(r.endswith('G') for r in floor)\n",
    "    chips = [c for c in floor if c.endswith('M')]\n",
    "    return not rtgs or all(generator_for(c) in floor for c in chips)\n",
    "\n",
    "def generator_for(chip): return chip[0] + 'G'\n",
    "\n",
    "def h_to_top(state):\n",
    "    \"An estimate of the number of moves needed to move everything to top.\"\n",
    "    total = sum(len(floor) * i for (i, floor) in enumerate(reversed(state.floors)))\n",
    "    return math.ceil(total / 2) # Can move two items in one move.\n",
    "\n",
    "part1 = State(0, (fs('TG', 'TM', 'PG', 'SG'), fs('PM', 'SM'), fs('pM', 'pG', 'RM', 'RG'), Ø))\n",
    "\n",
    "%time path = astar_search(part1, h_to_top, moves)\n",
    "print(len(path) - 1)\n",
    "\n",
    "part2 = State(0, (fs('TG', 'TM', 'PG', 'SG', 'EG', 'EM', 'DG', 'DM'), \n",
    "                  fs('PM', 'SM'), fs('pM', 'pG', 'RM', 'RG'), Ø))\n",
    "\n",
    "%time path = astar_search(part2, h_to_top, moves)\n",
    "print(len(path) - 1)"
   ]
  },
  {
   "cell_type": "code",
   "execution_count": 25,
   "metadata": {},
   "outputs": [
    {
     "name": "stdout",
     "output_type": "stream",
     "text": [
      "{'a': 318003, 'b': 196418, 'c': 0, 'd': 0}\n",
      "{'a': 9227657, 'b': 5702887, 'c': 0, 'd': 0}\n"
     ]
    }
   ],
   "source": [
    "## Advent Day 12\n",
    "\n",
    "def interpret(code, regs):\n",
    "    \"Execute instructions until pc goes off the end.\"\n",
    "    def val(x): return (regs[x] if x in regs else x)\n",
    "    pc = 0\n",
    "    while pc < len(code):\n",
    "        inst = code[pc]\n",
    "        op, x, y = inst[0], inst[1], inst[-1]\n",
    "        pc += 1\n",
    "        if   op == 'cpy': regs[y] = val(x)\n",
    "        elif op == 'inc': regs[x] += 1\n",
    "        elif op == 'dec': regs[x] -= 1\n",
    "        elif op == 'jnz' and val(x): pc += y - 1\n",
    "    return regs\n",
    "\n",
    "def parse(line): \n",
    "    \"Split line into words, and convert to int where appropriate.\"\n",
    "    return tuple((x if x.isalpha() else int(x)) \n",
    "                 for x in line.split())\n",
    "\n",
    "code = [parse(line) for line in Input(12)]\n",
    "\n",
    "print(interpret(code, dict(a=0, b=0, c=0, d=0)))\n",
    "print(interpret(code, dict(a=0, b=0, c=1, d=0)))"
   ]
  },
  {
   "cell_type": "code",
   "execution_count": 27,
   "metadata": {},
   "outputs": [
    {
     "name": "stdout",
     "output_type": "stream",
     "text": [
      "92\n",
      "124\n"
     ]
    }
   ],
   "source": [
    "## Advent Day 13\n",
    "\n",
    "favorite = 1350\n",
    "goal = (31, 39)\n",
    "\n",
    "def is_open(location):\n",
    "    \"Is this an open location?\"\n",
    "    x, y = location\n",
    "    num = x*x + 3*x + 2*x*y + y + y*y + favorite\n",
    "    return x >= 0 and y >= 0 and bin(num).count('1') % 2 == 0\n",
    "\n",
    "def open_neighbors(location): return filter(is_open, neighbors4(location))\n",
    "\n",
    "path = astar_search((1, 1), lambda p: cityblock_distance(p, goal), open_neighbors)\n",
    "print(len(path) - 1)\n",
    "\n",
    "def count_locations_within(start, N, neighbors):\n",
    "    \"Find how many locations are within N steps from start.\"\n",
    "    frontier = deque([start]) # A queue of states\n",
    "    distance = {start: 0}     # distance to start; also tracks all states seen\n",
    "    while frontier:\n",
    "        s = frontier.popleft()\n",
    "        if distance[s] < N:\n",
    "            for s2 in neighbors(s):\n",
    "                if s2 not in distance:\n",
    "                    frontier.append(s2)\n",
    "                    distance[s2] = distance[s] + 1\n",
    "    return len(distance)\n",
    "                \n",
    "print(count_locations_within((1, 1), 50, open_neighbors))"
   ]
  },
  {
   "cell_type": "code",
   "execution_count": 28,
   "metadata": {},
   "outputs": [
    {
     "name": "stdout",
     "output_type": "stream",
     "text": [
      "23890\n",
      "22696\n",
      "Wall time: 43.5 s\n"
     ]
    }
   ],
   "source": [
    "## Advent Day 14\n",
    "\n",
    "salt = 'ahsbgdzn'\n",
    "\n",
    "@lru_cache(1001)\n",
    "def hashval(i): return hashlib.md5(bytes(salt + str(i), 'utf-8')).hexdigest()\n",
    "\n",
    "def is_key(i):\n",
    "    \"A key has a triple like '777', and then '77777' in one of the next thousand hashval(i).\"\n",
    "    three = re.search(r'(.)\\1\\1', hashval(i))\n",
    "    if three:\n",
    "        five = three.group(1) * 5\n",
    "        return any(five in hashval(i+delta) for delta in range(1, 1001))\n",
    "    \n",
    "def nth_key(N): return nth(filter(is_key, range(BIG)), N)\n",
    "\n",
    "print(nth_key(63))\n",
    "\n",
    "@lru_cache(1001)\n",
    "def hashval(i, stretch=2016): \n",
    "    h = hashlib.md5(bytes(salt + str(i), 'utf-8')).hexdigest()\n",
    "    for i in range(stretch):\n",
    "        h = hashlib.md5(bytes(h, 'utf-8')).hexdigest()\n",
    "    return h\n",
    "\n",
    "%time print(nth_key(63))"
   ]
  },
  {
   "cell_type": "code",
   "execution_count": 31,
   "metadata": {},
   "outputs": [
    {
     "name": "stdout",
     "output_type": "stream",
     "text": [
      "400589\n",
      "3045959\n"
     ]
    }
   ],
   "source": [
    "## Advent Day 15\n",
    "\n",
    "def parse(inputs): \n",
    "    \"Parse an input string into (disc#, positions, pos) triples.\"\n",
    "    return [tuple(map(int, triple))\n",
    "            for triple in re.findall(r'#(\\d+).* (\\d+) positions.* (\\d+)[.]', inputs)]\n",
    "    \n",
    "discs = parse(Input(15).read())\n",
    "\n",
    "def falls(t, discs):\n",
    "    \"If we drop the capsule at time t, does it fall through all slots?\"\n",
    "    return all((pos + t + d) % positions == 0 \n",
    "               for (d, positions, pos) in discs)\n",
    "\n",
    "print(first(t for t in range(BIG) if falls(t, discs)))\n",
    "\n",
    "discs.append((7, 11, 0))\n",
    "\n",
    "print(first(t for t in range(12, BIG, 19) if falls(t, discs)))"
   ]
  },
  {
   "cell_type": "code",
   "execution_count": 34,
   "metadata": {},
   "outputs": [
    {
     "name": "stdout",
     "output_type": "stream",
     "text": [
      "11101010111100010\n",
      "01001101001000101\n",
      "Wall time: 7.14 s\n"
     ]
    }
   ],
   "source": [
    "## Advent Day 16\n",
    "\n",
    "def expand(a, N):\n",
    "    \"Expand seed `a` until it has length N.\"\n",
    "    while len(a) < N:\n",
    "        b = flip(a[::-1])\n",
    "        a = a + '0' + b\n",
    "    return a[:N]\n",
    "\n",
    "def flip(text, table=str.maketrans('10', '01')): return text.translate(table)\n",
    "\n",
    "def checksum(a):\n",
    "    \"Compute the checksum of `a` by comparing pairs until len is odd.\"\n",
    "    while len(a) % 2 == 0:\n",
    "        a = cat(('1' if a[i] == a[i+1] else '0') \n",
    "                for i in range(0, len(a), 2))\n",
    "    return a\n",
    "    \n",
    "seed = '10111011111001111'\n",
    "\n",
    "print(checksum(expand(seed, 272)))\n",
    "\n",
    "%time print(checksum(expand(seed, 35651584)))"
   ]
  },
  {
   "cell_type": "code",
   "execution_count": 36,
   "metadata": {},
   "outputs": [
    {
     "name": "stdout",
     "output_type": "stream",
     "text": [
      "[((0, 0), ''), ((1, 0), 'R'), ((1, 1), 'RD'), ((2, 1), 'RDR'), ((3, 1), 'RDRR'), ((3, 0), 'RDRRU'), ((2, 0), 'RDRRUL'), ((2, 1), 'RDRRULD'), ((2, 2), 'RDRRULDD'), ((2, 3), 'RDRRULDDD'), ((3, 3), 'RDRRULDDDR')]\n",
      "392\n"
     ]
    }
   ],
   "source": [
    "## Advent Day 17\n",
    "\n",
    "passcode = 'vkjiggvb'\n",
    "\n",
    "openchars = 'bcdef'\n",
    "\n",
    "grid = set((x, y) for x in range(4) for y in range(4))\n",
    "\n",
    "start, goal = (0, 0), (3, 3)\n",
    "\n",
    "def to_goal(state): \n",
    "    \"City block distance between state's position and goal.\"\n",
    "    pos, path = state\n",
    "    return cityblock_distance(pos, goal)\n",
    "\n",
    "directions = [(0, 'U', (0, -1)), (1, 'D', (0, 1)), (2, 'L', (-1, 0)), (3, 'R', (1, 0))]\n",
    "\n",
    "def moves(state):\n",
    "    \"All states reachable from this state.\"\n",
    "    (x, y), path = state\n",
    "    hashx = hashlib.md5(bytes(passcode + path, 'utf-8')).hexdigest()\n",
    "    for (i, p, (dx, dy)) in directions:\n",
    "        pos2 = (x+dx, y+dy)\n",
    "        if hashx[i] in openchars and pos2 in grid:\n",
    "            yield (pos2, path+p)\n",
    "    \n",
    "print(astar_search((start, ''), to_goal, moves))\n",
    "\n",
    "def longest_search(state, goal, moves):\n",
    "    \"Find the longest path to goal by depth-first search.\"\n",
    "    longest = 0\n",
    "    frontier = [state]\n",
    "    while frontier:\n",
    "        state = (pos, path) = frontier.pop()\n",
    "        if pos == goal:\n",
    "            longest = max(longest, len(path))\n",
    "        else:\n",
    "            frontier.extend(moves(state))\n",
    "    return longest\n",
    "            \n",
    "print(longest_search((start, ''), goal, moves))"
   ]
  },
  {
   "cell_type": "code",
   "execution_count": 40,
   "metadata": {},
   "outputs": [
    {
     "name": "stdout",
     "output_type": "stream",
     "text": [
      "2005\n",
      "20008491\n",
      "Wall time: 7.82 s\n"
     ]
    }
   ],
   "source": [
    "## Advent Day 18\n",
    "\n",
    "safe, trap = '.', '^'  \n",
    "initial = Input(18).read()\n",
    "\n",
    "def rows(n, row=initial):\n",
    "    \"The first n rows of tiles (given the initial row).\"\n",
    "    result = [row]\n",
    "    for i in range(n-1):\n",
    "        previous = safe + result[-1] + safe\n",
    "        result.append(cat((trap if previous[i-1] != previous[i+1] else safe)\n",
    "                          for i in range(1, len(previous) - 1)))\n",
    "    return result\n",
    "\n",
    "print(cat(rows(40)).count(safe))\n",
    "\n",
    "%time print(cat(rows(400000)).count(safe))"
   ]
  },
  {
   "cell_type": "code",
   "execution_count": 42,
   "metadata": {},
   "outputs": [
    {
     "name": "stdout",
     "output_type": "stream",
     "text": [
      "1815603\n",
      "1410630\n",
      "Wall time: 1.31 s\n"
     ]
    }
   ],
   "source": [
    "## Advent Day 19\n",
    "\n",
    "def Elves(N=3004953): return range(1, N+1) \n",
    "\n",
    "def winner(elves): return (elves[0] if (len(elves) == 1) else winner(one_round(elves)))\n",
    "\n",
    "def one_round(elves): return (elves[0::2] if (len(elves) % 2 == 0) else elves[2::2])\n",
    "\n",
    "assert winner(Elves(5)) == 3\n",
    "\n",
    "print(winner(Elves()))\n",
    "\n",
    "def Elves(N=3004953): return list(range(1, N+1))\n",
    "\n",
    "def one_round(elves):\n",
    "    \"The first third of elves eliminate ones across the circle from them; who is left?\"\n",
    "    N = len(elves)\n",
    "    eliminated = 0\n",
    "    for i in range(int(math.ceil(N / 3))):\n",
    "        across = i + eliminated + (N // 2) \n",
    "        elves[across] = None\n",
    "        N -= 1\n",
    "        eliminated += 1\n",
    "    return list(filter(None, elves[i+1:] + elves[:i+1]))\n",
    "\n",
    "assert winner(Elves(5)) == 2\n",
    "\n",
    "assert one_round(Elves(5)) == [4, 1, 2]\n",
    "\n",
    "%time print(winner(Elves()))"
   ]
  },
  {
   "cell_type": "code",
   "execution_count": 44,
   "metadata": {},
   "outputs": [
    {
     "name": "stdout",
     "output_type": "stream",
     "text": [
      "22887907\n",
      "109\n"
     ]
    }
   ],
   "source": [
    "## Advent Day 20\n",
    "\n",
    "pairs = sorted(map(parse_ints, Input(20)))\n",
    "\n",
    "def unblocked(pairs):\n",
    "    \"Find the lowest unblocked integer, given the sorted pairs of blocked numbers.\"\n",
    "    i = 0\n",
    "    for (low, high) in pairs:\n",
    "        yield from range(i, low)\n",
    "        i = max(i, high + 1)\n",
    "            \n",
    "print(first(unblocked(pairs)))\n",
    "\n",
    "print(len(list(unblocked(pairs))))"
   ]
  },
  {
   "cell_type": "code",
   "execution_count": 46,
   "metadata": {},
   "outputs": [
    {
     "name": "stdout",
     "output_type": "stream",
     "text": [
      "dgfaehcb\n",
      "{'fdhgacbe'}\n"
     ]
    }
   ],
   "source": [
    "## Advent Day 21\n",
    "\n",
    "def scramble(password, instructions=list(Input(21)), verbose=False):\n",
    "    \"Scramble the password according to the instructions.\"\n",
    "    pw = list(password) \n",
    "    def rot(N):     pw[:]        = pw[-N:] + pw[:-N]\n",
    "    def swap(A, B): pw[A], pw[B] = pw[B], pw[A]  \n",
    "    for line in instructions:\n",
    "        words = line.split()\n",
    "        A, B, = parse_ints(line + ' 0 0')[:2]\n",
    "        cmd = line.startswith\n",
    "        if   cmd('swap position'): swap(A, B)\n",
    "        elif cmd('swap letter'):   swap(pw.index(words[2]), pw.index(words[5]))\n",
    "        elif cmd('rotate right'):  rot(A)\n",
    "        elif cmd('rotate left'):   rot(-A)\n",
    "        elif cmd('reverse'):       pw[A:B+1] = pw[A:B+1][::-1]\n",
    "        elif cmd('move'):          pw[A:A+1], pw[B:B] = [], pw[A:A+1]\n",
    "        elif cmd('rotate based'):\n",
    "            i = pw.index(words[6])\n",
    "            rot((i + 1 + (i >= 4)) % len(pw))\n",
    "        if verbose: \n",
    "            print(line + ': ' + cat(pw))\n",
    "    return cat(pw)\n",
    "\n",
    "print(scramble('abcdefgh'))\n",
    "\n",
    "print({cat(p) for p in permutations('fbgdceah') \n",
    " if scramble(p) == 'fbgdceah'})"
   ]
  },
  {
   "cell_type": "code",
   "execution_count": 48,
   "metadata": {},
   "outputs": [
    {
     "name": "stdout",
     "output_type": "stream",
     "text": [
      "888\n",
      "236\n"
     ]
    }
   ],
   "source": [
    "## Advent Day 22\n",
    "\n",
    "Node = namedtuple('Node', 'x, y, size, used, avail, pct')\n",
    "\n",
    "nodes = [Node(*parse_ints(line)) for line in Input(22) if line.startswith('/dev')]\n",
    "\n",
    "def viable(A, B): return A != B and 0 < A.used <= B.avail\n",
    "\n",
    "print(sum(viable(A, B) for A in nodes for B in nodes))\n",
    "\n",
    "empty = first(node for node in nodes if node.used == 0)\n",
    "maxx  = max(node.x for node in nodes)\n",
    "\n",
    "grid = {(node.x, node.y): node \n",
    "        for node in nodes}\n",
    "\n",
    "State = namedtuple('State', 'datapos, emptypos')\n",
    "\n",
    "def distance(state): return cityblock_distance(state.datapos)\n",
    "\n",
    "def moves(state):\n",
    "    \"Try moving any neighbor we can into the empty position.\"\n",
    "    for pos in neighbors4(state.emptypos):\n",
    "        if pos in grid:\n",
    "            # Try to move contents of `node` at pos into `empty` at emptypos\n",
    "            node, empty = grid[pos], grid[state.emptypos]\n",
    "            if node.used <= empty.size:\n",
    "                newdatapos = (state.emptypos if pos == state.datapos else state.datapos)\n",
    "                yield State(newdatapos, pos)\n",
    "                        \n",
    "path = astar_search(State((maxx, 0), (empty.x, empty.y)), distance, moves)\n",
    "print(len(path) - 1)"
   ]
  },
  {
   "cell_type": "code",
   "execution_count": 5,
   "metadata": {},
   "outputs": [
    {
     "name": "stdout",
     "output_type": "stream",
     "text": [
      "{'a': 12573, 'b': 1, 'c': 0, 'd': 0}\n",
      "Wall time: 26min 3s\n"
     ]
    },
    {
     "data": {
      "text/plain": [
       "{'a': 479009133, 'b': 1, 'c': 0, 'd': 0}"
      ]
     },
     "execution_count": 5,
     "metadata": {},
     "output_type": "execute_result"
    }
   ],
   "source": [
    "## Advent Day 23\n",
    "\n",
    "def interpret(code, regs):\n",
    "    \"Execute instructions until pc goes off the end.\"\n",
    "    def val(x): return (regs[x] if x in regs else x)\n",
    "    pc = 0\n",
    "    while 0 <= pc < len(code):\n",
    "        inst = code[pc]\n",
    "        op, x, y = inst[0], inst[1], inst[-1]\n",
    "        pc += 1\n",
    "        if   op == 'cpy' and y in regs: regs[y] = val(x)\n",
    "        elif op == 'inc':               regs[x] += 1                  \n",
    "        elif op == 'dec':               regs[x] -= 1                  \n",
    "        elif op == 'jnz' and val(x):    pc += val(y) - 1   \n",
    "        elif op == 'tgl':               toggle(code, pc - 1 + val(x))\n",
    "    return regs\n",
    "\n",
    "def toggle(code, i):\n",
    "    \"Toggle the instruction at location i.\"\n",
    "    if 0 <= i < len(code): \n",
    "        inst = code[i]\n",
    "        inst[0] = ('dec' if inst[0] == 'inc' else \n",
    "                   'inc' if len(inst) == 2 else\n",
    "                   'cpy' if inst[0] == 'jnz' else \n",
    "                   'jnz')\n",
    "\n",
    "def parse(line): \n",
    "    \"Split line into words, and convert to int where appropriate.\"\n",
    "    return [(x if x.isalpha() else int(x)) \n",
    "            for x in line.split()]\n",
    "\n",
    "text = Input(23).read().strip()\n",
    "\n",
    "code = [parse(line) for line in text.splitlines()]\n",
    "\n",
    "regs = dict(a=7, b=0, c=0, d=0)\n",
    "\n",
    "print(interpret(code, regs))\n",
    "\n",
    "code = [parse(line) for line in text.splitlines()]\n",
    "\n",
    "regs = dict(a=12, b=0, c=0, d=0)\n",
    "\n",
    "%time print(interpret(code, regs))"
   ]
  },
  {
   "cell_type": "code",
   "execution_count": 7,
   "metadata": {},
   "outputs": [
    {
     "name": "stdout",
     "output_type": "stream",
     "text": [
      "456\n",
      "704\n"
     ]
    }
   ],
   "source": [
    "maze = tuple(Input(24))\n",
    "zero = first((x, y) for y, row in enumerate(maze) for x, c in enumerate(row) if c == '0')\n",
    "def h(state):\n",
    "    \"Heuristic: the number of digits not yet visited.\"\n",
    "    _, visited = state\n",
    "    return 8 - len(visited) # Note: 8 == len('01234567')\n",
    "    \n",
    "def moves(state):\n",
    "    \"Move to any neighboring square that is not a wall. Track the digits visited.\"\n",
    "    pos, visited = state\n",
    "    for x1, y1 in neighbors4(pos):\n",
    "        c = maze[y1][x1]\n",
    "        if c != '#':\n",
    "            visited1 = (visited if c in visited or c == '.' else cat(sorted(visited + c)))\n",
    "            yield (x1, y1), visited1\n",
    "\n",
    "path = astar_search((zero, '0'), h, moves)\n",
    "print(len(path) - 1)\n",
    "\n",
    "def h2(state):\n",
    "    \"Heuristic: the number of digits not yet visited, plus the distance back to start.\"\n",
    "    pos, visited = state\n",
    "    return 8 - len(visited) + cityblock_distance(pos, zero)\n",
    "\n",
    "path2 = astar_search((zero, '0'), h2, moves)\n",
    "print(len(path2) - 1)"
   ]
  },
  {
   "cell_type": "code",
   "execution_count": 11,
   "metadata": {},
   "outputs": [
    {
     "data": {
      "text/plain": [
       "192"
      ]
     },
     "execution_count": 11,
     "metadata": {},
     "output_type": "execute_result"
    }
   ],
   "source": [
    "def interpret(code, regs, steps=BIG):\n",
    "    \"Execute instructions until pc goes off the end, or until we execute the given number of steps.\"\n",
    "    def val(x): return (regs[x] if x in regs else x)\n",
    "    pc = 0\n",
    "    for _ in range(steps):\n",
    "        if not (0 <= pc < len(code)):\n",
    "            return\n",
    "        inst = code[pc]\n",
    "        op, x, y = inst[0], inst[1], inst[-1]\n",
    "        pc += 1\n",
    "        if   op == 'cpy' and y in regs: regs[y] = val(x)\n",
    "        elif op == 'inc':               regs[x] += 1                  \n",
    "        elif op == 'dec':               regs[x] -= 1                  \n",
    "        elif op == 'jnz' and val(x):    pc += val(y) - 1   \n",
    "        elif op == 'tgl':               toggle(code, pc - 1 + val(x))\n",
    "        elif op == 'out':               yield val(x)\n",
    "            \n",
    "text = Input(25).read().strip()\n",
    "\n",
    "code = [parse(line) for line in text.splitlines()]\n",
    "\n",
    "def repeats(a, code, steps=10**6, minsignals=100):\n",
    "    \"Does this value for register a cause code to repeat `out` signals of 0, 1, 0, 1, ...?\"\n",
    "    signals = interpret(code, dict(a=a, b=0, c=0, d=0), steps)\n",
    "    expecteds = cycle((0, 1))\n",
    "    for (i, (signal, expected)) in enumerate(zip(signals, expecteds)):\n",
    "        if signal != expected:\n",
    "            return False\n",
    "    # We'll say \"yes\" if the code outputs at least a minimum number of 0, 1, ... signals, and nothing else.\n",
    "    return i >= minsignals\n",
    "    \n",
    "first(a for a in range(1, BIG) if repeats(a, code))"
   ]
  },
  {
   "cell_type": "code",
   "execution_count": null,
   "metadata": {},
   "outputs": [],
   "source": []
  }
 ],
 "metadata": {
  "kernelspec": {
   "display_name": "Python 3",
   "language": "python",
   "name": "python3"
  },
  "language_info": {
   "codemirror_mode": {
    "name": "ipython",
    "version": 3
   },
   "file_extension": ".py",
   "mimetype": "text/x-python",
   "name": "python",
   "nbconvert_exporter": "python",
   "pygments_lexer": "ipython3",
   "version": "3.6.3"
  }
 },
 "nbformat": 4,
 "nbformat_minor": 2
}
