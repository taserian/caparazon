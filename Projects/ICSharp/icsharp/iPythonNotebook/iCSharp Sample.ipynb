{
 "metadata": {
  "name": "",
  "signature": "sha256:69e9b91f0cef955483c065f5250b02dc76f4d262539369adbe42814ed85aa3f6"
 },
 "nbformat": 3,
 "nbformat_minor": 0,
 "worksheets": [
  {
   "cells": [
    {
     "cell_type": "heading",
     "level": 1,
     "metadata": {},
     "source": [
      "Data Types"
     ]
    },
    {
     "cell_type": "code",
     "collapsed": false,
     "input": [
      "int someInteger = 123456;"
     ],
     "language": "python",
     "metadata": {},
     "outputs": [
      {
       "html": [],
       "metadata": {},
       "output_type": "pyout",
       "prompt_number": 1,
       "text": []
      }
     ],
     "prompt_number": 1
    },
    {
     "cell_type": "code",
     "collapsed": false,
     "input": [
      "someInteger"
     ],
     "language": "python",
     "metadata": {},
     "outputs": [
      {
       "html": [
        "<font style=\"color:Black\">123456\r\n",
        "</font>"
       ],
       "metadata": {},
       "output_type": "pyout",
       "prompt_number": 2,
       "text": [
        "123456\r\n"
       ]
      }
     ],
     "prompt_number": 2
    },
    {
     "cell_type": "code",
     "collapsed": false,
     "input": [
      "double someDouble = 22.0/7;"
     ],
     "language": "python",
     "metadata": {},
     "outputs": [
      {
       "html": [],
       "metadata": {},
       "output_type": "pyout",
       "prompt_number": 3,
       "text": []
      }
     ],
     "prompt_number": 3
    },
    {
     "cell_type": "code",
     "collapsed": false,
     "input": [
      "someDouble"
     ],
     "language": "python",
     "metadata": {},
     "outputs": [
      {
       "html": [
        "<font style=\"color:Black\">3.1428571428571428\r\n",
        "</font>"
       ],
       "metadata": {},
       "output_type": "pyout",
       "prompt_number": 4,
       "text": [
        "3.1428571428571428\r\n"
       ]
      }
     ],
     "prompt_number": 4
    },
    {
     "cell_type": "code",
     "collapsed": false,
     "input": [
      "string someString = \"ICsharp !!!\";"
     ],
     "language": "python",
     "metadata": {},
     "outputs": [
      {
       "html": [],
       "metadata": {},
       "output_type": "pyout",
       "prompt_number": 5,
       "text": []
      }
     ],
     "prompt_number": 5
    },
    {
     "cell_type": "code",
     "collapsed": false,
     "input": [
      "someString"
     ],
     "language": "python",
     "metadata": {},
     "outputs": [
      {
       "html": [
        "<font style=\"color:Black\">&quot;ICsharp !!!&quot;\r\n",
        "</font>"
       ],
       "metadata": {},
       "output_type": "pyout",
       "prompt_number": 6,
       "text": [
        "\"ICsharp !!!\"\r\n"
       ]
      }
     ],
     "prompt_number": 6
    },
    {
     "cell_type": "code",
     "collapsed": false,
     "input": [
      "DateTime datetime = DateTime.UtcNow;"
     ],
     "language": "python",
     "metadata": {},
     "outputs": [
      {
       "html": [],
       "metadata": {},
       "output_type": "pyout",
       "prompt_number": 7,
       "text": []
      }
     ],
     "prompt_number": 7
    },
    {
     "cell_type": "code",
     "collapsed": false,
     "input": [
      "datetime.ToString()"
     ],
     "language": "python",
     "metadata": {},
     "outputs": [
      {
       "html": [
        "<font style=\"color:Black\">&quot;9/21/2014 8:44:26 PM&quot;\r\n",
        "</font>"
       ],
       "metadata": {},
       "output_type": "pyout",
       "prompt_number": 8,
       "text": [
        "\"9/21/2014 8:44:26 PM\"\r\n"
       ]
      }
     ],
     "prompt_number": 8
    },
    {
     "cell_type": "code",
     "collapsed": false,
     "input": [
      "List<int> someList = new List<int>(){1,2,3,4};"
     ],
     "language": "python",
     "metadata": {},
     "outputs": [
      {
       "html": [],
       "metadata": {},
       "output_type": "pyout",
       "prompt_number": 9,
       "text": []
      }
     ],
     "prompt_number": 9
    },
    {
     "cell_type": "code",
     "collapsed": false,
     "input": [
      "someList"
     ],
     "language": "python",
     "metadata": {},
     "outputs": [
      {
       "html": [
        "<font style=\"color:Black\">[\r\n",
        "  1,\r\n",
        "  2,\r\n",
        "  3,\r\n",
        "  4\r\n",
        "]\r\n",
        "</font>"
       ],
       "metadata": {},
       "output_type": "pyout",
       "prompt_number": 10,
       "text": [
        "[\r\n",
        "  1,\r\n",
        "  2,\r\n",
        "  3,\r\n",
        "  4\r\n",
        "]\r\n"
       ]
      }
     ],
     "prompt_number": 10
    },
    {
     "cell_type": "heading",
     "level": 1,
     "metadata": {},
     "source": [
      "Exceptions"
     ]
    },
    {
     "cell_type": "code",
     "collapsed": false,
     "input": [
      "throw new Exception(\"Some Exception\");"
     ],
     "language": "python",
     "metadata": {},
     "outputs": [
      {
       "html": [
        "<font style=\"color:Red\">Some Exception\r\n",
        "</font>"
       ],
       "metadata": {},
       "output_type": "pyout",
       "prompt_number": 11,
       "text": [
        "Some Exception\r\n"
       ]
      }
     ],
     "prompt_number": 11
    },
    {
     "cell_type": "heading",
     "level": 1,
     "metadata": {},
     "source": [
      "Imports"
     ]
    },
    {
     "cell_type": "code",
     "collapsed": false,
     "input": [
      "#r \"System.Net\"\n",
      "\n",
      "// The above should get System.Net from GAC\n",
      "using System.Net;"
     ],
     "language": "python",
     "metadata": {},
     "outputs": [
      {
       "html": [],
       "metadata": {},
       "output_type": "pyout",
       "prompt_number": 12,
       "text": []
      }
     ],
     "prompt_number": 12
    },
    {
     "cell_type": "heading",
     "level": 1,
     "metadata": {},
     "source": [
      "Functions"
     ]
    },
    {
     "cell_type": "code",
     "collapsed": false,
     "input": [
      "string GetUrlContent(string uri){\n",
      "                                 \n",
      "    WebClient client = new WebClient ();\n",
      "\n",
      "    using(Stream data = client.OpenRead (uri))\n",
      "    {\n",
      "        using(StreamReader reader = new StreamReader (data))\n",
      "        {\n",
      "            string s = reader.ReadToEnd ();\n",
      "            return s;\n",
      "        }\n",
      "    }\n",
      "\n",
      "}"
     ],
     "language": "python",
     "metadata": {},
     "outputs": [
      {
       "html": [],
       "metadata": {},
       "output_type": "pyout",
       "prompt_number": 13,
       "text": []
      }
     ],
     "prompt_number": 13
    },
    {
     "cell_type": "code",
     "collapsed": false,
     "input": [
      "GetUrlContent(\"http://zohaib.me\");"
     ],
     "language": "python",
     "metadata": {},
     "outputs": [
      {
       "html": [
        "<font style=\"color:Black\">&quot;&lt;!DOCTYPE html&gt;\\n&lt;html&gt;\\n&lt;head&gt;\\n    \\n    &lt;meta charset=\\&quot;utf-8\\&quot; /&gt;\\n    &lt;meta http-equiv=\\&quot;X-UA-Compatible\\&quot; content=\\&quot;IE=edge\\&quot; /&gt;\\n\\n    \\n    &lt;title&gt;zabirauf || Zohaib&lt;/title&gt;\\n    &lt;meta name=\\&quot;description\\&quot; content=\\&quot;Blog about technology and  things I learn\\&quot; /&gt;\\n\\n    &lt;meta name=\\&quot;HandheldFriendly\\&quot; content=\\&quot;True\\&quot; /&gt;\\n    &lt;meta name=\\&quot;viewport\\&quot; content=\\&quot;width=device-width, initial-scale=1.0\\&quot; /&gt;\\n\\n    &lt;link rel=\\&quot;shortcut icon\\&quot; href=\\&quot;/favicon.ico\\&quot;&gt;\\n\\n    \\n    &lt;link rel=\\&quot;stylesheet\\&quot; type=\\&quot;text/css\\&quot; href=\\&quot;/assets/css/screen.css?v=57b93b21ea\\&quot; /&gt;\\n    &lt;link rel=\\&quot;stylesheet\\&quot; type=\\&quot;text/css\\&quot; href=\\&quot;//fonts.googleapis.com/css?family=Noto+Serif:400,700,400italic|Open+Sans:700,400\\&quot; /&gt;\\n\\n    \\n    &lt;meta name=\\&quot;generator\\&quot; content=\\&quot;Ghost 0.4\\&quot; /&gt;\\n&lt;link rel=\\&quot;alternate\\&quot; type=\\&quot;application/rss+xml\\&quot; title=\\&quot;zabirauf || Zohaib\\&quot; href=\\&quot;/rss/\\&quot;&gt;\\n&lt;link rel=\\&quot;canonical\\&quot; href=\\&quot;http://zohaib.me/\\&quot; /&gt;\\n&lt;/head&gt;\\n&lt;body class=\\&quot;home-template\\&quot;&gt;\\n\\n    \\n    \\n\\n\\n\\n\\n&lt;header class=\\&quot;site-head\\&quot; style=\\&quot;background-image: url(/content/images/2014/Aug/home_bg-1.jpg)\\&quot;&gt;\\n    &lt;div class=\\&quot;vertical\\&quot;&gt;\\n        &lt;div class=\\&quot;site-head-content inner\\&quot;&gt;\\n            \\n            &lt;h1 class=\\&quot;blog-title\\&quot;&gt;zabirauf || Zohaib&lt;/h1&gt;\\n            &lt;h2 class=\\&quot;blog-description\\&quot;&gt;Blog about technology and  things I learn&lt;/h2&gt;\\n        &lt;/div&gt;\\n    &lt;/div&gt;\\n&lt;/header&gt;\\n\\n\\n&lt;main class=\\&quot;content\\&quot; role=\\&quot;main\\&quot;&gt;\\n\\n    \\n    \\n\\n    &lt;article class=\\&quot;post\\&quot;&gt;\\n        &lt;header class=\\&quot;post-header\\&quot;&gt;\\n            &lt;span class=\\&quot;post-meta\\&quot;&gt;&lt;time datetime=\\&quot;2014-08-08\\&quot;&gt;08 Aug 2014&lt;/time&gt; &lt;/span&gt;\\n            &lt;h2 class=\\&quot;post-title\\&quot;&gt;&lt;a href=\\&quot;/lazy-evaluation-in-c/\\&quot;&gt;Lazy Evaluation in C#&lt;/a&gt;&lt;/h2&gt;\\n\\n        &lt;/header&gt;\\n        &lt;section class=\\&quot;post-excerpt\\&quot;&gt;\\n            &lt;p&gt;I started looking at Haskell and one thing that was interesting was the lazy evaluation. This allows you to write very generic functions and then chain other functions on top of it to do something on that data. This makes the programming feel more verbose and readable. Lets say if&amp;hellip;&lt;/p&gt;\\n        &lt;/section&gt;\\n    &lt;/article&gt;\\n\\n    \\n\\n    &lt;article class=\\&quot;post tag-dokku tag-erlang\\&quot;&gt;\\n        &lt;header class=\\&quot;post-header\\&quot;&gt;\\n            &lt;span class=\\&quot;post-meta\\&quot;&gt;&lt;time datetime=\\&quot;2014-08-05\\&quot;&gt;05 Aug 2014&lt;/time&gt; on &lt;a href=\\&quot;/tag/dokku/\\&quot;&gt;dokku&lt;/a&gt;, &lt;a href=\\&quot;/tag/erlang/\\&quot;&gt;erlang&lt;/a&gt;&lt;/span&gt;\\n            &lt;h2 class=\\&quot;post-title\\&quot;&gt;&lt;a href=\\&quot;/deploying-erlang-mochiweb-using-dokku/\\&quot;&gt;Deploying Erlang Mochiweb app using Dokku&lt;/a&gt;&lt;/h2&gt;\\n\\n        &lt;/header&gt;\\n        &lt;section class=\\&quot;post-excerpt\\&quot;&gt;\\n            &lt;p&gt;Deploying Erlang with rebar is very easy in Dokku. I&#39;m gonna use hello-erlang to deploy the erlang application which is using mochiweb to server an HTTP request. The dependecy on Mochiweb is mentioned in rebar.config. First clone the repository to your local PC $ git clone https://github.com/jkvor&amp;hellip;&lt;/p&gt;\\n        &lt;/section&gt;\\n    &lt;/article&gt;\\n\\n    \\n\\n    &lt;article class=\\&quot;post tag-linode tag-digital-ocean tag-dokku\\&quot;&gt;\\n        &lt;header class=\\&quot;post-header\\&quot;&gt;\\n            &lt;span class=\\&quot;post-meta\\&quot;&gt;&lt;time datetime=\\&quot;2014-08-05\\&quot;&gt;05 Aug 2014&lt;/time&gt; on &lt;a href=\\&quot;/tag/linode/\\&quot;&gt;linode&lt;/a&gt;, &lt;a href=\\&quot;/tag/digital-ocean/\\&quot;&gt;digital ocean&lt;/a&gt;, &lt;a href=\\&quot;/tag/dokku/\\&quot;&gt;dokku&lt;/a&gt;&lt;/span&gt;\\n            &lt;h2 class=\\&quot;post-title\\&quot;&gt;&lt;a href=\\&quot;/moved-to-digital-ocean/\\&quot;&gt;Moved to Digital Ocean&lt;/a&gt;&lt;/h2&gt;\\n\\n        &lt;/header&gt;\\n        &lt;section class=\\&quot;post-excerpt\\&quot;&gt;\\n            &lt;p&gt;I recently moved by blog and personal computing server to Digital Ocean from Linode. For my first impression I&#39;m wondering why didn&#39;t I moved earlier, not that Linode is bad its just that Digital Ocean is better. The UI of Digital Ocean is much more lean and responsive. The pricing&amp;hellip;&lt;/p&gt;\\n        &lt;/section&gt;\\n    &lt;/article&gt;\\n\\n    \\n\\n    &lt;article class=\\&quot;post tag-quadcopter tag-micro-quad tag-3d-printed-quad\\&quot;&gt;\\n        &lt;header class=\\&quot;post-header\\&quot;&gt;\\n            &lt;span class=\\&quot;post-meta\\&quot;&gt;&lt;time datetime=\\&quot;2014-05-14\\&quot;&gt;14 May 2014&lt;/time&gt; on &lt;a href=\\&quot;/tag/quadcopter/\\&quot;&gt;quadcopter&lt;/a&gt;, &lt;a href=\\&quot;/tag/micro-quad/\\&quot;&gt;micro quad&lt;/a&gt;, &lt;a href=\\&quot;/tag/3d-printed-quad/\\&quot;&gt;3d printed quad&lt;/a&gt;&lt;/span&gt;\\n            &lt;h2 class=\\&quot;post-title\\&quot;&gt;&lt;a href=\\&quot;/3d-printed-micro-quadcopter/\\&quot;&gt;3D Printed Micro Quadcopter&lt;/a&gt;&lt;/h2&gt;\\n\\n        &lt;/header&gt;\\n        &lt;section class=\\&quot;post-excerpt\\&quot;&gt;\\n            &lt;p&gt;Why create a quadcopter? Just for the fun of it and to understand the mechanics behind it. I was always fascinated with planes when I was a kid, wondering how a piece of metal can just stay in the air and move around. I tried creating my RC plane with&amp;hellip;&lt;/p&gt;\\n        &lt;/section&gt;\\n    &lt;/article&gt;\\n\\n    \\n\\n    &lt;article class=\\&quot;post tag-parrot tag-drone tag-ardrone tag-arduino tag-controller tag-quadcopter\\&quot;&gt;\\n        &lt;header class=\\&quot;post-header\\&quot;&gt;\\n            &lt;span class=\\&quot;post-meta\\&quot;&gt;&lt;time datetime=\\&quot;2014-05-14\\&quot;&gt;14 May 2014&lt;/time&gt; on &lt;a href=\\&quot;/tag/parrot/\\&quot;&gt;parrot&lt;/a&gt;, &lt;a href=\\&quot;/tag/drone/\\&quot;&gt;drone&lt;/a&gt;, &lt;a href=\\&quot;/tag/ardrone/\\&quot;&gt;ardrone&lt;/a&gt;, &lt;a href=\\&quot;/tag/arduino/\\&quot;&gt;arduino&lt;/a&gt;, &lt;a href=\\&quot;/tag/controller/\\&quot;&gt;controller&lt;/a&gt;, &lt;a href=\\&quot;/tag/quadcopter/\\&quot;&gt;quadcopter&lt;/a&gt;&lt;/span&gt;\\n            &lt;h2 class=\\&quot;post-title\\&quot;&gt;&lt;a href=\\&quot;/parrot-drone-arduino-controller/\\&quot;&gt;Parrot Drone Arduino Controller&lt;/a&gt;&lt;/h2&gt;\\n\\n        &lt;/header&gt;\\n        &lt;section class=\\&quot;post-excerpt\\&quot;&gt;\\n            &lt;p&gt;What do you do when you dont like the way a thing works, you change it.I bought ARDrone quadcopter, which is a good piece of technology. It is controlled by an application on iPhone or Arduino. It works by sending AT commands over wifi, though the range of it&amp;hellip;&lt;/p&gt;\\n        &lt;/section&gt;\\n    &lt;/article&gt;\\n\\n    \\n\\n    \\n    &lt;nav class=\\&quot;pagination\\&quot; role=\\&quot;navigation\\&quot;&gt;\\n    \\n    &lt;span class=\\&quot;page-number\\&quot;&gt;Page 1 of 1&lt;/span&gt;\\n    \\n&lt;/nav&gt;\\n\\n&lt;/main&gt;\\n\\n    &lt;footer class=\\&quot;site-footer\\&quot;&gt;\\n        &lt;a class=\\&quot;subscribe icon-feed\\&quot; href=\\&quot;http://zohaib.me/rss/\\&quot;&gt;&lt;span class=\\&quot;tooltip\\&quot;&gt;Subscribe!&lt;/span&gt;&lt;/a&gt;\\n        &lt;div class=\\&quot;inner\\&quot;&gt;\\n             &lt;section class=\\&quot;copyright\\&quot;&gt;All content copyright &lt;a href=\\&quot;http://zohaib.me/\\&quot;&gt;zabirauf || Zohaib&lt;/a&gt; &amp;copy; 2014 &amp;bull; All rights reserved.&lt;/section&gt;\\n             &lt;section class=\\&quot;poweredby\\&quot;&gt;Proudly published with &lt;a class=\\&quot;icon-ghost\\&quot; href=\\&quot;https://ghost.org\\&quot;&gt;Ghost&lt;/a&gt;&lt;/section&gt;\\n        &lt;/div&gt;\\n    &lt;/footer&gt;\\n\\n    \\n    &lt;script src=\\&quot;/public/jquery.js?v=57b93b21ea\\&quot;&gt;&lt;/script&gt;\\n\\n    \\n    &lt;script type=\\&quot;text/javascript\\&quot; src=\\&quot;/assets/js/jquery.fitvids.js?v=57b93b21ea\\&quot;&gt;&lt;/script&gt;\\n    &lt;script type=\\&quot;text/javascript\\&quot; src=\\&quot;/assets/js/index.js?v=57b93b21ea\\&quot;&gt;&lt;/script&gt;\\n\\n&lt;/body&gt;\\n&lt;/html&gt;\\n&quot;\r\n",
        "</font>"
       ],
       "metadata": {},
       "output_type": "pyout",
       "prompt_number": 14,
       "text": [
        "\"<!DOCTYPE html>\\n<html>\\n<head>\\n    \\n    <meta charset=\\\"utf-8\\\" />\\n    <meta http-equiv=\\\"X-UA-Compatible\\\" content=\\\"IE=edge\\\" />\\n\\n    \\n    <title>zabirauf || Zohaib</title>\\n    <meta name=\\\"description\\\" content=\\\"Blog about technology and  things I learn\\\" />\\n\\n    <meta name=\\\"HandheldFriendly\\\" content=\\\"True\\\" />\\n    <meta name=\\\"viewport\\\" content=\\\"width=device-width, initial-scale=1.0\\\" />\\n\\n    <link rel=\\\"shortcut icon\\\" href=\\\"/favicon.ico\\\">\\n\\n    \\n    <link rel=\\\"stylesheet\\\" type=\\\"text/css\\\" href=\\\"/assets/css/screen.css?v=57b93b21ea\\\" />\\n    <link rel=\\\"stylesheet\\\" type=\\\"text/css\\\" href=\\\"//fonts.googleapis.com/css?family=Noto+Serif:400,700,400italic|Open+Sans:700,400\\\" />\\n\\n    \\n    <meta name=\\\"generator\\\" content=\\\"Ghost 0.4\\\" />\\n<link rel=\\\"alternate\\\" type=\\\"application/rss+xml\\\" title=\\\"zabirauf || Zohaib\\\" href=\\\"/rss/\\\">\\n<link rel=\\\"canonical\\\" href=\\\"http://zohaib.me/\\\" />\\n</head>\\n<body class=\\\"home-template\\\">\\n\\n    \\n    \\n\\n\\n\\n\\n<header class=\\\"site-head\\\" style=\\\"background-image: url(/content/images/2014/Aug/home_bg-1.jpg)\\\">\\n    <div class=\\\"vertical\\\">\\n        <div class=\\\"site-head-content inner\\\">\\n            \\n            <h1 class=\\\"blog-title\\\">zabirauf || Zohaib</h1>\\n            <h2 class=\\\"blog-description\\\">Blog about technology and  things I learn</h2>\\n        </div>\\n    </div>\\n</header>\\n\\n\\n<main class=\\\"content\\\" role=\\\"main\\\">\\n\\n    \\n    \\n\\n    <article class=\\\"post\\\">\\n        <header class=\\\"post-header\\\">\\n            <span class=\\\"post-meta\\\"><time datetime=\\\"2014-08-08\\\">08 Aug 2014</time> </span>\\n            <h2 class=\\\"post-title\\\"><a href=\\\"/lazy-evaluation-in-c/\\\">Lazy Evaluation in C#</a></h2>\\n\\n        </header>\\n        <section class=\\\"post-excerpt\\\">\\n            <p>I started looking at Haskell and one thing that was interesting was the lazy evaluation. This allows you to write very generic functions and then chain other functions on top of it to do something on that data. This makes the programming feel more verbose and readable. Lets say if&hellip;</p>\\n        </section>\\n    </article>\\n\\n    \\n\\n    <article class=\\\"post tag-dokku tag-erlang\\\">\\n        <header class=\\\"post-header\\\">\\n            <span class=\\\"post-meta\\\"><time datetime=\\\"2014-08-05\\\">05 Aug 2014</time> on <a href=\\\"/tag/dokku/\\\">dokku</a>, <a href=\\\"/tag/erlang/\\\">erlang</a></span>\\n            <h2 class=\\\"post-title\\\"><a href=\\\"/deploying-erlang-mochiweb-using-dokku/\\\">Deploying Erlang Mochiweb app using Dokku</a></h2>\\n\\n        </header>\\n        <section class=\\\"post-excerpt\\\">\\n            <p>Deploying Erlang with rebar is very easy in Dokku. I'm gonna use hello-erlang to deploy the erlang application which is using mochiweb to server an HTTP request. The dependecy on Mochiweb is mentioned in rebar.config. First clone the repository to your local PC $ git clone https://github.com/jkvor&hellip;</p>\\n        </section>\\n    </article>\\n\\n    \\n\\n    <article class=\\\"post tag-linode tag-digital-ocean tag-dokku\\\">\\n        <header class=\\\"post-header\\\">\\n            <span class=\\\"post-meta\\\"><time datetime=\\\"2014-08-05\\\">05 Aug 2014</time> on <a href=\\\"/tag/linode/\\\">linode</a>, <a href=\\\"/tag/digital-ocean/\\\">digital ocean</a>, <a href=\\\"/tag/dokku/\\\">dokku</a></span>\\n            <h2 class=\\\"post-title\\\"><a href=\\\"/moved-to-digital-ocean/\\\">Moved to Digital Ocean</a></h2>\\n\\n        </header>\\n        <section class=\\\"post-excerpt\\\">\\n            <p>I recently moved by blog and personal computing server to Digital Ocean from Linode. For my first impression I'm wondering why didn't I moved earlier, not that Linode is bad its just that Digital Ocean is better. The UI of Digital Ocean is much more lean and responsive. The pricing&hellip;</p>\\n        </section>\\n    </article>\\n\\n    \\n\\n    <article class=\\\"post tag-quadcopter tag-micro-quad tag-3d-printed-quad\\\">\\n        <header class=\\\"post-header\\\">\\n            <span class=\\\"post-meta\\\"><time datetime=\\\"2014-05-14\\\">14 May 2014</time> on <a href=\\\"/tag/quadcopter/\\\">quadcopter</a>, <a href=\\\"/tag/micro-quad/\\\">micro quad</a>, <a href=\\\"/tag/3d-printed-quad/\\\">3d printed quad</a></span>\\n            <h2 class=\\\"post-title\\\"><a href=\\\"/3d-printed-micro-quadcopter/\\\">3D Printed Micro Quadcopter</a></h2>\\n\\n        </header>\\n        <section class=\\\"post-excerpt\\\">\\n            <p>Why create a quadcopter? Just for the fun of it and to understand the mechanics behind it. I was always fascinated with planes when I was a kid, wondering how a piece of metal can just stay in the air and move around. I tried creating my RC plane with&hellip;</p>\\n        </section>\\n    </article>\\n\\n    \\n\\n    <article class=\\\"post tag-parrot tag-drone tag-ardrone tag-arduino tag-controller tag-quadcopter\\\">\\n        <header class=\\\"post-header\\\">\\n            <span class=\\\"post-meta\\\"><time datetime=\\\"2014-05-14\\\">14 May 2014</time> on <a href=\\\"/tag/parrot/\\\">parrot</a>, <a href=\\\"/tag/drone/\\\">drone</a>, <a href=\\\"/tag/ardrone/\\\">ardrone</a>, <a href=\\\"/tag/arduino/\\\">arduino</a>, <a href=\\\"/tag/controller/\\\">controller</a>, <a href=\\\"/tag/quadcopter/\\\">quadcopter</a></span>\\n            <h2 class=\\\"post-title\\\"><a href=\\\"/parrot-drone-arduino-controller/\\\">Parrot Drone Arduino Controller</a></h2>\\n\\n        </header>\\n        <section class=\\\"post-excerpt\\\">\\n            <p>What do you do when you dont like the way a thing works, you change it.I bought ARDrone quadcopter, which is a good piece of technology. It is controlled by an application on iPhone or Arduino. It works by sending AT commands over wifi, though the range of it&hellip;</p>\\n        </section>\\n    </article>\\n\\n    \\n\\n    \\n    <nav class=\\\"pagination\\\" role=\\\"navigation\\\">\\n    \\n    <span class=\\\"page-number\\\">Page 1 of 1</span>\\n    \\n</nav>\\n\\n</main>\\n\\n    <footer class=\\\"site-footer\\\">\\n        <a class=\\\"subscribe icon-feed\\\" href=\\\"http://zohaib.me/rss/\\\"><span class=\\\"tooltip\\\">Subscribe!</span></a>\\n        <div class=\\\"inner\\\">\\n             <section class=\\\"copyright\\\">All content copyright <a href=\\\"http://zohaib.me/\\\">zabirauf || Zohaib</a> &copy; 2014 &bull; All rights reserved.</section>\\n             <section class=\\\"poweredby\\\">Proudly published with <a class=\\\"icon-ghost\\\" href=\\\"https://ghost.org\\\">Ghost</a></section>\\n        </div>\\n    </footer>\\n\\n    \\n    <script src=\\\"/public/jquery.js?v=57b93b21ea\\\"></script>\\n\\n    \\n    <script type=\\\"text/javascript\\\" src=\\\"/assets/js/jquery.fitvids.js?v=57b93b21ea\\\"></script>\\n    <script type=\\\"text/javascript\\\" src=\\\"/assets/js/index.js?v=57b93b21ea\\\"></script>\\n\\n</body>\\n</html>\\n\"\r\n"
       ]
      }
     ],
     "prompt_number": 14
    },
    {
     "cell_type": "code",
     "collapsed": false,
     "input": [
      "using System.Math;\n",
      "\n",
      "Cos(45);"
     ],
     "language": "python",
     "metadata": {},
     "outputs": [
      {
       "html": [
        "<font style=\"color:Black\">0.52532198881772973\r\n",
        "</font>"
       ],
       "metadata": {},
       "output_type": "pyout",
       "prompt_number": 15,
       "text": [
        "0.52532198881772973\r\n"
       ]
      }
     ],
     "prompt_number": 15
    },
    {
     "cell_type": "code",
     "collapsed": false,
     "input": [
      "Sin(45);"
     ],
     "language": "python",
     "metadata": {},
     "outputs": [
      {
       "html": [
        "<font style=\"color:Black\">0.85090352453411844\r\n",
        "</font>"
       ],
       "metadata": {},
       "output_type": "pyout",
       "prompt_number": 16,
       "text": [
        "0.85090352453411844\r\n"
       ]
      }
     ],
     "prompt_number": 16
    },
    {
     "cell_type": "heading",
     "level": 1,
     "metadata": {},
     "source": [
      "Class"
     ]
    },
    {
     "cell_type": "code",
     "collapsed": false,
     "input": [
      "public class Person\n",
      "{\n",
      "    // Field \n",
      "    public string FirstName{get;set;}\n",
      "    public string LastName{get;set;}\n",
      "\n",
      "\n",
      "    // Method \n",
      "    public string GetFullName()\n",
      "    {\n",
      "        return this.FirstName + \" \" + LastName;\n",
      "    }\n",
      "}"
     ],
     "language": "python",
     "metadata": {},
     "outputs": [
      {
       "html": [],
       "metadata": {},
       "output_type": "pyout",
       "prompt_number": 17,
       "text": []
      }
     ],
     "prompt_number": 17
    },
    {
     "cell_type": "code",
     "collapsed": false,
     "input": [
      "Person me = new Person(){FirstName=\"Zohaib\", LastName=\"Rauf\"};"
     ],
     "language": "python",
     "metadata": {},
     "outputs": [
      {
       "html": [],
       "metadata": {},
       "output_type": "pyout",
       "prompt_number": 18,
       "text": []
      }
     ],
     "prompt_number": 18
    },
    {
     "cell_type": "code",
     "collapsed": false,
     "input": [
      "me.FirstName"
     ],
     "language": "python",
     "metadata": {},
     "outputs": [
      {
       "html": [
        "<font style=\"color:Black\">&quot;Zohaib&quot;\r\n",
        "</font>"
       ],
       "metadata": {},
       "output_type": "pyout",
       "prompt_number": 19,
       "text": [
        "\"Zohaib\"\r\n"
       ]
      }
     ],
     "prompt_number": 19
    },
    {
     "cell_type": "code",
     "collapsed": false,
     "input": [
      "me.GetFullName()"
     ],
     "language": "python",
     "metadata": {},
     "outputs": [
      {
       "html": [
        "<font style=\"color:Black\">&quot;Zohaib Rauf&quot;\r\n",
        "</font>"
       ],
       "metadata": {},
       "output_type": "pyout",
       "prompt_number": 20,
       "text": [
        "\"Zohaib Rauf\"\r\n"
       ]
      }
     ],
     "prompt_number": 20
    },
    {
     "cell_type": "code",
     "collapsed": false,
     "input": [],
     "language": "python",
     "metadata": {},
     "outputs": [
      {
       "html": [],
       "metadata": {},
       "output_type": "pyout",
       "prompt_number": 21,
       "text": []
      }
     ],
     "prompt_number": 21
    }
   ],
   "metadata": {}
  }
 ]
}